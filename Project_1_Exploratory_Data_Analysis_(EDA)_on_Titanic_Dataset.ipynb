{
  "nbformat": 4,
  "nbformat_minor": 0,
  "metadata": {
    "colab": {
      "provenance": [],
      "authorship_tag": "ABX9TyMwjIPaoldviCGYZzi0lzSF",
      "include_colab_link": true
    },
    "kernelspec": {
      "name": "python3",
      "display_name": "Python 3"
    },
    "language_info": {
      "name": "python"
    }
  },
  "cells": [
    {
      "cell_type": "markdown",
      "metadata": {
        "id": "view-in-github",
        "colab_type": "text"
      },
      "source": [
        "<a href=\"https://colab.research.google.com/github/MaryamAshraff2/PRODIGY_DS_02/blob/main/Project_1_Exploratory_Data_Analysis_(EDA)_on_Titanic_Dataset.ipynb\" target=\"_parent\"><img src=\"https://colab.research.google.com/assets/colab-badge.svg\" alt=\"Open In Colab\"/></a>"
      ]
    },
    {
      "cell_type": "code",
      "execution_count": 1,
      "metadata": {
        "colab": {
          "base_uri": "https://localhost:8080/",
          "height": 142
        },
        "id": "ZH95jhqPku8n",
        "outputId": "100c424a-0f15-4e99-ab2b-78f5f2bab3e8"
      },
      "outputs": [
        {
          "output_type": "display_data",
          "data": {
            "text/plain": [
              "<IPython.core.display.HTML object>"
            ],
            "text/html": [
              "\n",
              "     <input type=\"file\" id=\"files-c617e604-9f1c-4fce-b010-944b0ec6c501\" name=\"files[]\" multiple disabled\n",
              "        style=\"border:none\" />\n",
              "     <output id=\"result-c617e604-9f1c-4fce-b010-944b0ec6c501\">\n",
              "      Upload widget is only available when the cell has been executed in the\n",
              "      current browser session. Please rerun this cell to enable.\n",
              "      </output>\n",
              "      <script>// Copyright 2017 Google LLC\n",
              "//\n",
              "// Licensed under the Apache License, Version 2.0 (the \"License\");\n",
              "// you may not use this file except in compliance with the License.\n",
              "// You may obtain a copy of the License at\n",
              "//\n",
              "//      http://www.apache.org/licenses/LICENSE-2.0\n",
              "//\n",
              "// Unless required by applicable law or agreed to in writing, software\n",
              "// distributed under the License is distributed on an \"AS IS\" BASIS,\n",
              "// WITHOUT WARRANTIES OR CONDITIONS OF ANY KIND, either express or implied.\n",
              "// See the License for the specific language governing permissions and\n",
              "// limitations under the License.\n",
              "\n",
              "/**\n",
              " * @fileoverview Helpers for google.colab Python module.\n",
              " */\n",
              "(function(scope) {\n",
              "function span(text, styleAttributes = {}) {\n",
              "  const element = document.createElement('span');\n",
              "  element.textContent = text;\n",
              "  for (const key of Object.keys(styleAttributes)) {\n",
              "    element.style[key] = styleAttributes[key];\n",
              "  }\n",
              "  return element;\n",
              "}\n",
              "\n",
              "// Max number of bytes which will be uploaded at a time.\n",
              "const MAX_PAYLOAD_SIZE = 100 * 1024;\n",
              "\n",
              "function _uploadFiles(inputId, outputId) {\n",
              "  const steps = uploadFilesStep(inputId, outputId);\n",
              "  const outputElement = document.getElementById(outputId);\n",
              "  // Cache steps on the outputElement to make it available for the next call\n",
              "  // to uploadFilesContinue from Python.\n",
              "  outputElement.steps = steps;\n",
              "\n",
              "  return _uploadFilesContinue(outputId);\n",
              "}\n",
              "\n",
              "// This is roughly an async generator (not supported in the browser yet),\n",
              "// where there are multiple asynchronous steps and the Python side is going\n",
              "// to poll for completion of each step.\n",
              "// This uses a Promise to block the python side on completion of each step,\n",
              "// then passes the result of the previous step as the input to the next step.\n",
              "function _uploadFilesContinue(outputId) {\n",
              "  const outputElement = document.getElementById(outputId);\n",
              "  const steps = outputElement.steps;\n",
              "\n",
              "  const next = steps.next(outputElement.lastPromiseValue);\n",
              "  return Promise.resolve(next.value.promise).then((value) => {\n",
              "    // Cache the last promise value to make it available to the next\n",
              "    // step of the generator.\n",
              "    outputElement.lastPromiseValue = value;\n",
              "    return next.value.response;\n",
              "  });\n",
              "}\n",
              "\n",
              "/**\n",
              " * Generator function which is called between each async step of the upload\n",
              " * process.\n",
              " * @param {string} inputId Element ID of the input file picker element.\n",
              " * @param {string} outputId Element ID of the output display.\n",
              " * @return {!Iterable<!Object>} Iterable of next steps.\n",
              " */\n",
              "function* uploadFilesStep(inputId, outputId) {\n",
              "  const inputElement = document.getElementById(inputId);\n",
              "  inputElement.disabled = false;\n",
              "\n",
              "  const outputElement = document.getElementById(outputId);\n",
              "  outputElement.innerHTML = '';\n",
              "\n",
              "  const pickedPromise = new Promise((resolve) => {\n",
              "    inputElement.addEventListener('change', (e) => {\n",
              "      resolve(e.target.files);\n",
              "    });\n",
              "  });\n",
              "\n",
              "  const cancel = document.createElement('button');\n",
              "  inputElement.parentElement.appendChild(cancel);\n",
              "  cancel.textContent = 'Cancel upload';\n",
              "  const cancelPromise = new Promise((resolve) => {\n",
              "    cancel.onclick = () => {\n",
              "      resolve(null);\n",
              "    };\n",
              "  });\n",
              "\n",
              "  // Wait for the user to pick the files.\n",
              "  const files = yield {\n",
              "    promise: Promise.race([pickedPromise, cancelPromise]),\n",
              "    response: {\n",
              "      action: 'starting',\n",
              "    }\n",
              "  };\n",
              "\n",
              "  cancel.remove();\n",
              "\n",
              "  // Disable the input element since further picks are not allowed.\n",
              "  inputElement.disabled = true;\n",
              "\n",
              "  if (!files) {\n",
              "    return {\n",
              "      response: {\n",
              "        action: 'complete',\n",
              "      }\n",
              "    };\n",
              "  }\n",
              "\n",
              "  for (const file of files) {\n",
              "    const li = document.createElement('li');\n",
              "    li.append(span(file.name, {fontWeight: 'bold'}));\n",
              "    li.append(span(\n",
              "        `(${file.type || 'n/a'}) - ${file.size} bytes, ` +\n",
              "        `last modified: ${\n",
              "            file.lastModifiedDate ? file.lastModifiedDate.toLocaleDateString() :\n",
              "                                    'n/a'} - `));\n",
              "    const percent = span('0% done');\n",
              "    li.appendChild(percent);\n",
              "\n",
              "    outputElement.appendChild(li);\n",
              "\n",
              "    const fileDataPromise = new Promise((resolve) => {\n",
              "      const reader = new FileReader();\n",
              "      reader.onload = (e) => {\n",
              "        resolve(e.target.result);\n",
              "      };\n",
              "      reader.readAsArrayBuffer(file);\n",
              "    });\n",
              "    // Wait for the data to be ready.\n",
              "    let fileData = yield {\n",
              "      promise: fileDataPromise,\n",
              "      response: {\n",
              "        action: 'continue',\n",
              "      }\n",
              "    };\n",
              "\n",
              "    // Use a chunked sending to avoid message size limits. See b/62115660.\n",
              "    let position = 0;\n",
              "    do {\n",
              "      const length = Math.min(fileData.byteLength - position, MAX_PAYLOAD_SIZE);\n",
              "      const chunk = new Uint8Array(fileData, position, length);\n",
              "      position += length;\n",
              "\n",
              "      const base64 = btoa(String.fromCharCode.apply(null, chunk));\n",
              "      yield {\n",
              "        response: {\n",
              "          action: 'append',\n",
              "          file: file.name,\n",
              "          data: base64,\n",
              "        },\n",
              "      };\n",
              "\n",
              "      let percentDone = fileData.byteLength === 0 ?\n",
              "          100 :\n",
              "          Math.round((position / fileData.byteLength) * 100);\n",
              "      percent.textContent = `${percentDone}% done`;\n",
              "\n",
              "    } while (position < fileData.byteLength);\n",
              "  }\n",
              "\n",
              "  // All done.\n",
              "  yield {\n",
              "    response: {\n",
              "      action: 'complete',\n",
              "    }\n",
              "  };\n",
              "}\n",
              "\n",
              "scope.google = scope.google || {};\n",
              "scope.google.colab = scope.google.colab || {};\n",
              "scope.google.colab._files = {\n",
              "  _uploadFiles,\n",
              "  _uploadFilesContinue,\n",
              "};\n",
              "})(self);\n",
              "</script> "
            ]
          },
          "metadata": {}
        },
        {
          "output_type": "stream",
          "name": "stdout",
          "text": [
            "Saving gender_submission.csv to gender_submission.csv\n",
            "Saving test.csv to test.csv\n",
            "Saving train.csv to train.csv\n"
          ]
        }
      ],
      "source": [
        "import pandas as pd\n",
        "from google.colab import files\n",
        "uploaded = files.upload()\n",
        "train_data = pd.read_csv(\"train.csv\")\n",
        "test_data = pd.read_csv(\"test.csv\")\n"
      ]
    },
    {
      "cell_type": "code",
      "source": [
        "from tabulate import tabulate\n",
        "\n",
        "# Set display options\n",
        "pd.set_option('display.max_columns', None)  # Show all columns\n",
        "pd.set_option('display.max_rows', 20)  # Show only first 20 rows\n",
        "pd.set_option('display.width', 1000)  # Set the display width\n",
        "\n",
        "# Display the first 20 rows of the training dataset\n",
        "print(\"Training dataset (first 20 rows):\")\n",
        "print(tabulate(train_data.head(20), headers='keys', tablefmt='psql'))\n",
        "\n",
        "# Print the number of rows in the dataset\n",
        "print(f\"\\nTotal number of rows in the training dataset: {len(train_data)}\")\n",
        "\n",
        "# Display basic information about the training data\n",
        "print(\"\\nBasic information about the training data:\")\n",
        "print(tabulate(train_data.dtypes.to_frame('Dtype'), headers='keys', tablefmt='psql'))\n",
        "\n",
        "# Display summary statistics of the training data\n",
        "print(\"\\nSummary statistics of the training data:\")\n",
        "print(tabulate(train_data.describe(), headers='keys', tablefmt='psql'))\n"
      ],
      "metadata": {
        "colab": {
          "base_uri": "https://localhost:8080/"
        },
        "id": "icD_6EQ1k2el",
        "outputId": "35857b1b-6271-4d7f-aa87-6256350f64b3"
      },
      "execution_count": 15,
      "outputs": [
        {
          "output_type": "stream",
          "name": "stdout",
          "text": [
            "Training dataset (first 20 rows):\n",
            "+----+---------------+------------+----------+---------------------------------------------------------+--------+---------+---------+---------+------------------+---------+---------+------------+\n",
            "|    |   PassengerId |   Survived |   Pclass | Name                                                    | Sex    |     Age |   SibSp |   Parch | Ticket           |    Fare | Cabin   | Embarked   |\n",
            "|----+---------------+------------+----------+---------------------------------------------------------+--------+---------+---------+---------+------------------+---------+---------+------------|\n",
            "|  0 |             1 |          0 |        3 | Braund, Mr. Owen Harris                                 | male   | 22      |       1 |       0 | A/5 21171        |  7.25   | B96 B98 | S          |\n",
            "|  1 |             2 |          1 |        1 | Cumings, Mrs. John Bradley (Florence Briggs Thayer)     | female | 38      |       1 |       0 | PC 17599         | 71.2833 | C85     | C          |\n",
            "|  2 |             3 |          1 |        3 | Heikkinen, Miss. Laina                                  | female | 26      |       0 |       0 | STON/O2. 3101282 |  7.925  | B96 B98 | S          |\n",
            "|  3 |             4 |          1 |        1 | Futrelle, Mrs. Jacques Heath (Lily May Peel)            | female | 35      |       1 |       0 | 113803           | 53.1    | C123    | S          |\n",
            "|  4 |             5 |          0 |        3 | Allen, Mr. William Henry                                | male   | 35      |       0 |       0 | 373450           |  8.05   | B96 B98 | S          |\n",
            "|  5 |             6 |          0 |        3 | Moran, Mr. James                                        | male   | 29.6991 |       0 |       0 | 330877           |  8.4583 | B96 B98 | Q          |\n",
            "|  6 |             7 |          0 |        1 | McCarthy, Mr. Timothy J                                 | male   | 54      |       0 |       0 | 17463            | 51.8625 | E46     | S          |\n",
            "|  7 |             8 |          0 |        3 | Palsson, Master. Gosta Leonard                          | male   |  2      |       3 |       1 | 349909           | 21.075  | B96 B98 | S          |\n",
            "|  8 |             9 |          1 |        3 | Johnson, Mrs. Oscar W (Elisabeth Vilhelmina Berg)       | female | 27      |       0 |       2 | 347742           | 11.1333 | B96 B98 | S          |\n",
            "|  9 |            10 |          1 |        2 | Nasser, Mrs. Nicholas (Adele Achem)                     | female | 14      |       1 |       0 | 237736           | 30.0708 | B96 B98 | C          |\n",
            "| 10 |            11 |          1 |        3 | Sandstrom, Miss. Marguerite Rut                         | female |  4      |       1 |       1 | PP 9549          | 16.7    | G6      | S          |\n",
            "| 11 |            12 |          1 |        1 | Bonnell, Miss. Elizabeth                                | female | 58      |       0 |       0 | 113783           | 26.55   | C103    | S          |\n",
            "| 12 |            13 |          0 |        3 | Saundercock, Mr. William Henry                          | male   | 20      |       0 |       0 | A/5. 2151        |  8.05   | B96 B98 | S          |\n",
            "| 13 |            14 |          0 |        3 | Andersson, Mr. Anders Johan                             | male   | 39      |       1 |       5 | 347082           | 31.275  | B96 B98 | S          |\n",
            "| 14 |            15 |          0 |        3 | Vestrom, Miss. Hulda Amanda Adolfina                    | female | 14      |       0 |       0 | 350406           |  7.8542 | B96 B98 | S          |\n",
            "| 15 |            16 |          1 |        2 | Hewlett, Mrs. (Mary D Kingcome)                         | female | 55      |       0 |       0 | 248706           | 16      | B96 B98 | S          |\n",
            "| 16 |            17 |          0 |        3 | Rice, Master. Eugene                                    | male   |  2      |       4 |       1 | 382652           | 29.125  | B96 B98 | Q          |\n",
            "| 17 |            18 |          1 |        2 | Williams, Mr. Charles Eugene                            | male   | 29.6991 |       0 |       0 | 244373           | 13      | B96 B98 | S          |\n",
            "| 18 |            19 |          0 |        3 | Vander Planke, Mrs. Julius (Emelia Maria Vandemoortele) | female | 31      |       1 |       0 | 345763           | 18      | B96 B98 | S          |\n",
            "| 19 |            20 |          1 |        3 | Masselmani, Mrs. Fatima                                 | female | 29.6991 |       0 |       0 | 2649             |  7.225  | B96 B98 | C          |\n",
            "+----+---------------+------------+----------+---------------------------------------------------------+--------+---------+---------+---------+------------------+---------+---------+------------+\n",
            "\n",
            "Total number of rows in the training dataset: 891\n",
            "\n",
            "Basic information about the training data:\n",
            "+-------------+----------+\n",
            "|             | Dtype    |\n",
            "|-------------+----------|\n",
            "| PassengerId | int64    |\n",
            "| Survived    | int64    |\n",
            "| Pclass      | int64    |\n",
            "| Name        | category |\n",
            "| Sex         | category |\n",
            "| Age         | float64  |\n",
            "| SibSp       | int64    |\n",
            "| Parch       | int64    |\n",
            "| Ticket      | category |\n",
            "| Fare        | float64  |\n",
            "| Cabin       | category |\n",
            "| Embarked    | category |\n",
            "+-------------+----------+\n",
            "\n",
            "Summary statistics of the training data:\n",
            "+-------+---------------+------------+------------+----------+------------+------------+----------+\n",
            "|       |   PassengerId |   Survived |     Pclass |      Age |      SibSp |      Parch |     Fare |\n",
            "|-------+---------------+------------+------------+----------+------------+------------+----------|\n",
            "| count |       891     | 891        | 891        | 891      | 891        | 891        | 891      |\n",
            "| mean  |       446     |   0.383838 |   2.30864  |  29.6991 |   0.523008 |   0.381594 |  32.2042 |\n",
            "| std   |       257.354 |   0.486592 |   0.836071 |  13.002  |   1.10274  |   0.806057 |  49.6934 |\n",
            "| min   |         1     |   0        |   1        |   0.42   |   0        |   0        |   0      |\n",
            "| 25%   |       223.5   |   0        |   2        |  22      |   0        |   0        |   7.9104 |\n",
            "| 50%   |       446     |   0        |   3        |  29.6991 |   0        |   0        |  14.4542 |\n",
            "| 75%   |       668.5   |   1        |   3        |  35      |   1        |   0        |  31      |\n",
            "| max   |       891     |   1        |   3        |  80      |   8        |   6        | 512.329  |\n",
            "+-------+---------------+------------+------------+----------+------------+------------+----------+\n"
          ]
        }
      ]
    },
    {
      "cell_type": "code",
      "source": [
        "# Handling missing values\n",
        "# Display missing values in each column\n",
        "missing_values = train_data.isnull().sum().to_frame('Missing Values')\n",
        "missing_values['Percentage'] = (missing_values['Missing Values'] / len(train_data)) * 100\n",
        "print(\"\\nMissing values in the training data:\")\n",
        "print(tabulate(missing_values, headers='keys', tablefmt='psql'))\n",
        "\n",
        "# Fill missing values for numerical columns with the median\n",
        "num_cols = train_data.select_dtypes(include=['float64', 'int64']).columns\n",
        "train_data[num_cols] = train_data[num_cols].fillna(train_data[num_cols].median())\n",
        "\n",
        "# Fill missing values for categorical columns with the mode (most frequent value)\n",
        "cat_cols = train_data.select_dtypes(include=['object']).columns\n",
        "for col in cat_cols:\n",
        "    mode = train_data[col].mode()\n",
        "    if not mode.empty:\n",
        "        train_data[col] = train_data[col].fillna(mode[0])\n",
        "\n",
        "# Correcting data types\n",
        "# Example: Converting any relevant columns to categorical or datetime types\n",
        "# train_data['SomeColumn'] = pd.to_datetime(train_data['SomeColumn'], errors='coerce') # Example for datetime conversion\n",
        "# train_data['CategoricalColumn'] = train_data['CategoricalColumn'].astype('category')  # Example for categorical conversion\n",
        "\n",
        "# Data inconsistency handling\n",
        "# Identifying unique values in categorical columns to check for inconsistencies\n",
        "for col in cat_cols:\n",
        "    unique_vals = train_data[col].unique()\n",
        "    print(f\"\\nUnique values in column '{col}':\")\n",
        "    print(unique_vals)\n",
        "\n",
        "# Manual correction if needed (example for correcting spelling mistakes or standardizing case)\n",
        "# train_data['CategoricalColumn'] = train_data['CategoricalColumn'].str.lower().str.strip()\n",
        "\n",
        "# Print cleaned data\n",
        "print(\"\\nCleaned Training dataset:\")\n",
        "print(tabulate(train_data.head(), headers='keys', tablefmt='psql'))\n",
        "\n",
        "# Save the cleaned data to a new CSV file\n",
        "train_data.to_csv(\"cleaned_train_data.csv\", index=False)"
      ],
      "metadata": {
        "colab": {
          "base_uri": "https://localhost:8080/"
        },
        "id": "JA_KBlXMk7Q-",
        "outputId": "0a1e45dd-d5e9-4e5e-870d-9ca6eb6529af"
      },
      "execution_count": 12,
      "outputs": [
        {
          "output_type": "stream",
          "name": "stdout",
          "text": [
            "\n",
            "Missing values in the training data:\n",
            "+-------------+------------------+--------------+\n",
            "|             |   Missing Values |   Percentage |\n",
            "|-------------+------------------+--------------|\n",
            "| PassengerId |                0 |            0 |\n",
            "| Survived    |                0 |            0 |\n",
            "| Pclass      |                0 |            0 |\n",
            "| Name        |                0 |            0 |\n",
            "| Sex         |                0 |            0 |\n",
            "| Age         |                0 |            0 |\n",
            "| SibSp       |                0 |            0 |\n",
            "| Parch       |                0 |            0 |\n",
            "| Ticket      |                0 |            0 |\n",
            "| Fare        |                0 |            0 |\n",
            "| Cabin       |                0 |            0 |\n",
            "| Embarked    |                0 |            0 |\n",
            "+-------------+------------------+--------------+\n",
            "\n",
            "Cleaned Training dataset:\n",
            "+----+---------------+------------+----------+-----------------------------------------------------+--------+-------+---------+---------+------------------+---------+---------+------------+\n",
            "|    |   PassengerId |   Survived |   Pclass | Name                                                | Sex    |   Age |   SibSp |   Parch | Ticket           |    Fare | Cabin   | Embarked   |\n",
            "|----+---------------+------------+----------+-----------------------------------------------------+--------+-------+---------+---------+------------------+---------+---------+------------|\n",
            "|  0 |             1 |          0 |        3 | Braund, Mr. Owen Harris                             | male   |    22 |       1 |       0 | A/5 21171        |  7.25   | B96 B98 | S          |\n",
            "|  1 |             2 |          1 |        1 | Cumings, Mrs. John Bradley (Florence Briggs Thayer) | female |    38 |       1 |       0 | PC 17599         | 71.2833 | C85     | C          |\n",
            "|  2 |             3 |          1 |        3 | Heikkinen, Miss. Laina                              | female |    26 |       0 |       0 | STON/O2. 3101282 |  7.925  | B96 B98 | S          |\n",
            "|  3 |             4 |          1 |        1 | Futrelle, Mrs. Jacques Heath (Lily May Peel)        | female |    35 |       1 |       0 | 113803           | 53.1    | C123    | S          |\n",
            "|  4 |             5 |          0 |        3 | Allen, Mr. William Henry                            | male   |    35 |       0 |       0 | 373450           |  8.05   | B96 B98 | S          |\n",
            "+----+---------------+------------+----------+-----------------------------------------------------+--------+-------+---------+---------+------------------+---------+---------+------------+\n"
          ]
        }
      ]
    },
    {
      "cell_type": "code",
      "source": [
        "# Calculate the survival rate of women\n",
        "women = train_data.loc[train_data.Sex == 'female'][\"Survived\"]\n",
        "rate_women = sum(women) / len(women)\n",
        "print(\"\\n% of women who survived:\", rate_women)\n",
        "\n",
        "# Calculate the survival rate of men\n",
        "men = train_data.loc[train_data.Sex == 'male'][\"Survived\"]\n",
        "rate_men = sum(men) / len(men)\n",
        "print(\"% of men who survived:\", rate_men)\n"
      ],
      "metadata": {
        "colab": {
          "base_uri": "https://localhost:8080/"
        },
        "id": "1n9izOB5oG3M",
        "outputId": "dc259a1c-615b-4e4f-faf2-683c0e089d7f"
      },
      "execution_count": 13,
      "outputs": [
        {
          "output_type": "stream",
          "name": "stdout",
          "text": [
            "\n",
            "% of women who survived: 0.7420382165605095\n",
            "% of men who survived: 0.18890814558058924\n"
          ]
        }
      ]
    },
    {
      "cell_type": "code",
      "source": [
        "import matplotlib.pyplot as plt\n",
        "import seaborn as sns\n",
        "import pandas as pd\n",
        "from sklearn.ensemble import RandomForestClassifier\n",
        "\n",
        "# Visualize the survival rates by gender\n",
        "plt.figure(figsize=(8,4))\n",
        "sns.barplot(x=['Women', 'Men'], y=[rate_women, rate_men], hue=['Women', 'Men'], palette='viridis', legend=False)\n",
        "plt.title('Survival Rates by Gender')\n",
        "plt.ylabel('Survival Rate')\n",
        "plt.show()\n",
        "\n",
        "# Prepare the data for the RandomForest model\n",
        "y = train_data[\"Survived\"]\n",
        "features = [\"Pclass\", \"Sex\", \"SibSp\", \"Parch\"]\n",
        "X = pd.get_dummies(train_data[features])\n",
        "X_test = pd.get_dummies(test_data[features])\n",
        "\n",
        "# Train the RandomForest model\n",
        "model = RandomForestClassifier(n_estimators=100, max_depth=5, random_state=1)\n",
        "model.fit(X, y)\n",
        "predictions = model.predict(X_test)\n",
        "\n",
        "# Additional Visualizations\n",
        "# Survival rate by Pclass\n",
        "plt.figure(figsize=(8, 4))\n",
        "sns.barplot(x='Pclass', y='Survived', hue='Pclass', data=train_data, palette='viridis', legend=False)\n",
        "plt.title('Survival Rate by Passenger Class')\n",
        "plt.ylabel('Survival Rate')\n",
        "plt.show()\n",
        "\n",
        "# Survival rate by Age\n",
        "plt.figure(figsize=(8, 4))\n",
        "sns.histplot(train_data[train_data['Survived'] == 1]['Age'], bins=30, kde=False, color='green', label='Survived')\n",
        "sns.histplot(train_data[train_data['Survived'] == 0]['Age'], bins=30, kde=False, color='red', label='Not Survived')\n",
        "plt.legend()\n",
        "plt.title('Survival Rate by Age')\n",
        "plt.xlabel('Age')\n",
        "plt.ylabel('Count')\n",
        "plt.show()\n",
        "\n",
        "# Save the predictions to a CSV file\n",
        "output = pd.DataFrame({'PassengerId': test_data.PassengerId, 'Survived': predictions})\n",
        "output.to_csv('submission.csv', index=False)\n",
        "print(\"\\nYour submission was successfully saved as 'submission.csv'!\")"
      ],
      "metadata": {
        "colab": {
          "base_uri": "https://localhost:8080/",
          "height": 1000
        },
        "id": "xWzjnSq-oSY0",
        "outputId": "c1c0f270-f3f5-47e7-8c7d-4c501116bca2"
      },
      "execution_count": 14,
      "outputs": [
        {
          "output_type": "display_data",
          "data": {
            "text/plain": [
              "<Figure size 800x400 with 1 Axes>"
            ],
            "image/png": "[encoded data removed]"
          },
          "metadata": {}
        },
        {
          "output_type": "display_data",
          "data": {
            "text/plain": [
              "<Figure size 800x400 with 1 Axes>"
            ],
            "image/png": "[encoded data removed]"
          },
          "metadata": {}
        },
        {
          "output_type": "display_data",
          "data": {
            "text/plain": [
              "<Figure size 800x400 with 1 Axes>"
            ],
            "image/png": "[encoded data removed]"
          },
          "metadata": {}
        },
        {
          "output_type": "stream",
          "name": "stdout",
          "text": [
            "\n",
            "Your submission was successfully saved as 'submission.csv'!\n"
          ]
        }
      ]
    }
  ]
}